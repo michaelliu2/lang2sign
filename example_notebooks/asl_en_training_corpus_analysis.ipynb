{
  "nbformat": 4,
  "nbformat_minor": 0,
  "metadata": {
    "colab": {
      "name": "asl-en-training_corpus_analysis.ipynb",
      "provenance": []
    },
    "kernelspec": {
      "name": "python3",
      "display_name": "Python 3"
    }
  },
  "cells": [
    {
      "cell_type": "markdown",
      "metadata": {
        "id": "g2xRz9Ml3AIL",
        "colab_type": "text"
      },
      "source": [
        "#ASL Dataset Analysis\n",
        "\n",
        "The ASLG-PC12 dataset consists of ASL gloss and English sentence pairs.\n",
        "The ASLLVD dataset has video segments of sign terms created by 6 unique signers. We will do some exploratory analysis of common word and phrases in the ASLG-PC12 dataset and a look at ASLLVD's vocabulary coverage of ASLG-PC12."
      ]
    },
    {
      "cell_type": "code",
      "metadata": {
        "id": "S_rf-AndUHYc",
        "colab_type": "code",
        "colab": {}
      },
      "source": [
        "import pandas as pd\n",
        "import numpy as np"
      ],
      "execution_count": 0,
      "outputs": []
    },
    {
      "cell_type": "code",
      "metadata": {
        "id": "a7N5gu15T3pA",
        "colab_type": "code",
        "colab": {}
      },
      "source": [
        "# Download 2 datasets\n",
        "!git clone https://github.com/imatge-upc/speech2signs-2017-nmt.git # ASLG-PC12 dataset\n",
        "!wget http://www.bu.edu/asllrp/dai-asllvd-BU_glossing_with_variations_HS_information-extended-urls-RU.xlsx # ASLLVD dataset"
      ],
      "execution_count": 0,
      "outputs": []
    },
    {
      "cell_type": "code",
      "metadata": {
        "id": "rvnnQymaUiLX",
        "colab_type": "code",
        "colab": {}
      },
      "source": [
        "# glosses is gloss vocabulary from ASLLVD. There are 4164 vocab words\n",
        "glosses_data = pd.read_excel(\"dai-asllvd-BU_glossing_with_variations_HS_information-extended-urls-RU.xlsx\")\n",
        "removed = ['============', False]\n",
        "glosses = glosses_data[\"Gloss Variant\"].dropna().unique()\n",
        "glosses = [gloss for gloss in glosses if gloss not in removed]\n",
        "glosses = [gloss.rstrip(\"+\") for gloss in glosses] # the \"+\" term signifies that the term was repeated several times in the video segment"
      ],
      "execution_count": 0,
      "outputs": []
    },
    {
      "cell_type": "markdown",
      "metadata": {
        "id": "Xrxr4NZ4Tl05",
        "colab_type": "text"
      },
      "source": [
        "## Clean up training Corpus"
      ]
    },
    {
      "cell_type": "code",
      "metadata": {
        "id": "jm8iLJbkldeG",
        "colab_type": "code",
        "colab": {}
      },
      "source": [
        "with open(\"speech2signs-2017-nmt/ASLG-PC12/ENG-ASL_Train_0.046.asl\") as file_obj:\n",
        "  separated_lines = file_obj.readlines()\n",
        "\n",
        "lines = \"\".join(separated_lines)\n",
        "separated_lines = [line.split() for line in separated_lines]\n",
        "\n",
        "# WOULD LIKE -> WANT\n",
        "removed_words = [\".\", \",\", \"?\", \"BE\", \"TO\", \"MR\"] # These arent ASL gloss terms\n",
        "\n",
        "# There are some ASL gloss convention mismatches between ASLLVD and ASLG-PC12\n",
        "replacement_mapping = {\n",
        "    \"X-I\": \"IX-1p\",\n",
        "    \"X-WE\": \"IX-1p-pl-arc\",\n",
        "    \"X-IT\": \"IX:i\",\n",
        "    \"X-HE\": \"IX:i\",\n",
        "    \"X-YOU\": \"IX-2p\",\n",
        "    \"X-Y\": \"IX-2p\", # X-Y is you in the general sense so this might not be good\n",
        "    \"THIS\": \"IX:i\",\n",
        "    \"EU\": \"ns-EUROPE\",\n",
        "    \"EUROPE\": \"ns-EUROPE\",\n",
        "    \"EUROPEAN\": \"ns-EUROPE\",# This might not be right to assume\n",
        "    \"WILL\": \"FUTURE\",\n",
        "    \"NEED\": \"SHOULD\",\n",
        "    \"DESC-NOT\": \"NOT\",\n",
        "    \"DESC-ALSO\": \"ALSO\"\n",
        "}\n",
        "\n",
        "# Remopve all DESC- from terms\n",
        "words = lines.split()\n",
        "words = [word for word in words if word not in removed_words]\n",
        "words = [word if word not in replacement_mapping else replacement_mapping[word] for word in words]\n",
        "words = [word if not word.startswith(\"DESC-\") else word[5:] for word in words]"
      ],
      "execution_count": 0,
      "outputs": []
    },
    {
      "cell_type": "markdown",
      "metadata": {
        "id": "XYbp6wypXaYq",
        "colab_type": "text"
      },
      "source": [
        "## Word and trigram count"
      ]
    },
    {
      "cell_type": "code",
      "metadata": {
        "id": "lvSuqssKR3gc",
        "colab_type": "code",
        "colab": {}
      },
      "source": [
        "from collections import Counter\n",
        "from nltk import ngrams\n",
        "\n",
        "def extract_phrases(text, phrase_counter, length):\n",
        "    words = nltk.word_tokenize(text)\n",
        "    for phrase in ngrams(words, length):\n",
        "        phrase_counter[phrase] += 1\n",
        "                \n",
        "phrase_counter = Counter()\n",
        "extract_phrases(\" \".join(words).replace(\":\", \"-\"), phrase_counter, 3)\n",
        "\n",
        "word_counter = Counter()\n",
        "extract_phrases(\" \".join(words).replace(\":\", \"-\"), word_counter, 1)"
      ],
      "execution_count": 0,
      "outputs": []
    },
    {
      "cell_type": "code",
      "metadata": {
        "id": "SwGj8CaXdFT-",
        "colab_type": "code",
        "colab": {
          "base_uri": "https://localhost:8080/",
          "height": 442
        },
        "outputId": "f69495f8-5e1f-47f3-9c06-87083cd5de8d"
      },
      "source": [
        "most_common_words = word_counter.most_common(25)\n",
        "for k,v in most_common_words:\n",
        "    print('{0: <5}'.format(v), k)"
      ],
      "execution_count": 34,
      "outputs": [
        {
          "output_type": "stream",
          "text": [
            "28427 ('IX-i',)\n",
            "21806 ('IX-1p-pl-arc',)\n",
            "19799 ('IN',)\n",
            "19602 ('AND',)\n",
            "15421 ('THAT',)\n",
            "14813 ('IX-1p',)\n",
            "14255 ('HAVE',)\n",
            "11636 ('FOR',)\n",
            "10883 ('ns-EUROPE',)\n",
            "10665 ('IX-2p',)\n",
            "9168  ('NOT',)\n",
            "8370  ('ON',)\n",
            "7318  ('FUTURE',)\n",
            "6801  ('SHOULD',)\n",
            "5183  ('WITH',)\n",
            "5027  ('DO',)\n",
            "4464  ('MUST',)\n",
            "4280  ('AS',)\n",
            "4163  ('ALSO',)\n",
            "3682  ('CAN',)\n",
            "3599  ('RE',)\n",
            "3590  ('VOTE',)\n",
            "3552  ('BY',)\n",
            "3505  ('WOULD',)\n",
            "3384  ('AT',)\n"
          ],
          "name": "stdout"
        }
      ]
    },
    {
      "cell_type": "code",
      "metadata": {
        "id": "uQ0xtivmbtUj",
        "colab_type": "code",
        "colab": {
          "base_uri": "https://localhost:8080/",
          "height": 442
        },
        "outputId": "90e88087-5602-4a63-9b0d-ee8698a42b25"
      },
      "source": [
        "most_common_phrases = phrase_counter.most_common(25)\n",
        "for k,v in most_common_phrases:\n",
        "    print('{0: <5}'.format(v), k)"
      ],
      "execution_count": 35,
      "outputs": [
        {
          "output_type": "stream",
          "text": [
            "1239  ('IX-1p', 'WOULD', 'LIKE')\n",
            "482   ('SIT', 'SEE', 'MINUTE')\n",
            "470   ('IX-1p', 'BELIEVE', 'THAT')\n",
            "421   ('IX-1p-pl-arc', 'CAN', 'NOT')\n",
            "409   ('VOTE', 'IN', 'FAVOR')\n",
            "370   ('LADY', 'AND', 'GENTLEMAN')\n",
            "361   ('FUTURE', 'TAKE', 'PLACE')\n",
            "360   ('IX-1p', 'DO', 'NOT')\n",
            "333   ('VOTE', 'FUTURE', 'TAKE')\n",
            "329   ('IX-1p', 'THINK', 'THAT')\n",
            "320   ('THANK', 'IX-2p', 'FOR')\n",
            "319   ('IX-1p-pl-arc', 'DO', 'NOT')\n",
            "309   ('CUT', 'OFF', 'SPEAKER')\n",
            "308   ('PRESIDENT', 'CUT', 'OFF')\n",
            "300   ('CLOSE', 'VOTE', 'FUTURE')\n",
            "281   ('THAT', 'IX-1p-pl-arc', 'HAVE')\n",
            "274   ('DEBATE', 'CLOSE', 'VOTE')\n",
            "257   ('WRITE', 'STATEMENT', 'RULE')\n",
            "254   ('WOULD', 'LIKE', 'THANK')\n",
            "248   ('THAT', 'IX-1p-pl-arc', 'SHOULD')\n",
            "241   ('MADAM', 'PRESIDENT', 'IX-1p')\n",
            "241   ('IX-1p', 'HOPE', 'THAT')\n",
            "225   ('IN', 'IX-i', 'REGARD')\n",
            "224   ('THANK', 'IX-2p', 'VERY')\n",
            "224   ('IX-2p', 'VERY', 'MUCH')\n"
          ],
          "name": "stdout"
        }
      ]
    },
    {
      "cell_type": "markdown",
      "metadata": {
        "id": "Ko7VnlLIdVFx",
        "colab_type": "text"
      },
      "source": [
        "## ASLLVD vocabulary coverage of training corpus"
      ]
    },
    {
      "cell_type": "code",
      "metadata": {
        "id": "6jbPtDGNdA8u",
        "colab_type": "code",
        "colab": {}
      },
      "source": [
        "word_count = {}\n",
        "for word in words:\n",
        "  if word in word_count:\n",
        "    word_count[word] += 1\n",
        "  else:\n",
        "    word_count[word] = 1"
      ],
      "execution_count": 0,
      "outputs": []
    },
    {
      "cell_type": "code",
      "metadata": {
        "id": "gDk_x_TldUj1",
        "colab_type": "code",
        "outputId": "fb05691c-9c8d-4435-9eec-97049088a784",
        "colab": {
          "base_uri": "https://localhost:8080/",
          "height": 51
        }
      },
      "source": [
        "glosses_set = set(glosses)\n",
        "sorted_word_count = sorted(word_count.items(), key=lambda x: x[1], reverse=True)\n",
        "\n",
        "distinct_words = len(sorted_word_count)\n",
        "total_words = len(words)\n",
        "word_overlap = [count for word, count in word_count.items() if word in glosses_set]\n",
        "distinct_word_overlap = len(word_overlap)\n",
        "total_word_overlap = sum(word_overlap)\n",
        "\n",
        "print(\"Vocabulary coverage in ASLG-PC12: {}\".format(distinct_word_overlap / distinct_words))\n",
        "print(\"Word coverage in ASLG-PC12: {}\".format(total_word_overlap / total_words))"
      ],
      "execution_count": 37,
      "outputs": [
        {
          "output_type": "stream",
          "text": [
            "Vocabulary coverage in ASLG-PC12: 0.07809234277028311\n",
            "Word coverage in ASLG-PC12: 0.5590735139884557\n"
          ],
          "name": "stdout"
        }
      ]
    },
    {
      "cell_type": "code",
      "metadata": {
        "id": "Iex-iyg1f2LW",
        "colab_type": "code",
        "outputId": "b403ed68-2019-4e16-a379-f52e4e9c4c50",
        "colab": {
          "base_uri": "https://localhost:8080/",
          "height": 527
        }
      },
      "source": [
        "# Most common words not in ASLLVD vocabulary\n",
        "[(word, count) for word, count in sorted_word_count[:100] if word not in glosses_set]"
      ],
      "execution_count": 38,
      "outputs": [
        {
          "output_type": "execute_result",
          "data": {
            "text/plain": [
              "[('AS', 4280),\n",
              " ('RE', 3582),\n",
              " ('BY', 3552),\n",
              " ('WOULD', 3505),\n",
              " ('AT', 3384),\n",
              " ('SE', 3015),\n",
              " ('X-POSS', 2949),\n",
              " ('OR', 2833),\n",
              " ('COMMISSION', 2700),\n",
              " ('HOWEVER', 2210),\n",
              " ('UNION', 2175),\n",
              " ('REFORE', 2015),\n",
              " ('DEBATE', 1804),\n",
              " ('X-MY', 1800),\n",
              " ('NO', 1769),\n",
              " ('X-ITS', 1751),\n",
              " ('SO', 1625),\n",
              " ('ISSUE', 1589),\n",
              " ('COUNCIL', 1514),\n",
              " ('THANK', 1510),\n",
              " ('ONLY', 1508),\n",
              " ('CRISIS', 1380),\n",
              " ('POINT', 1233),\n",
              " ('AGREEMENT', 1222),\n",
              " ('RIGHTS', 1165),\n",
              " ('AREA', 1153),\n",
              " ('TODAY', 1143),\n",
              " ('PROPOSAL', 1091),\n",
              " ('BELIEVE', 1082),\n",
              " ('SUCH', 1041)]"
            ]
          },
          "metadata": {
            "tags": []
          },
          "execution_count": 38
        }
      ]
    },
    {
      "cell_type": "code",
      "metadata": {
        "id": "7JCxaHmPdPdE",
        "colab_type": "code",
        "colab": {}
      },
      "source": [
        ""
      ],
      "execution_count": 0,
      "outputs": []
    }
  ]
}